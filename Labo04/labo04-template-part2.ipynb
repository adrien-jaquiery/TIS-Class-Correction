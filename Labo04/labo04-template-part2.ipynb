{
 "cells": [
  {
   "cell_type": "markdown",
   "metadata": {},
   "source": [
    "# LAB04 - 2D Convolution\n",
    "\n",
    "## Part 2\n",
    "\n",
    "Objectives:\n",
    "- add some padding to an image by using the following modes :zero, replicate, mirror and circular,\n",
    "- experiment the convolution of an image with a mask,\n",
    "- apply some basic filters:\n",
    "    - smoothing,\n",
    "    - unsharp masking,\n",
    "    - vertical and horizontal details detection,\n",
    "- experiment the convolution of an image with a mask with the 2D FFT technique,\n",
    "- validation of the previous points on *home made* arrays.\n"
   ]
  },
  {
   "cell_type": "markdown",
   "metadata": {},
   "source": [
    "## Imported librairies and configurations"
   ]
  },
  {
   "cell_type": "code",
   "execution_count": 1,
   "metadata": {
    "scrolled": true
   },
   "outputs": [],
   "source": [
    "import numpy as np\n",
    "import matplotlib.pyplot as plt\n",
    "from matplotlib import rcParams\n",
    "import skimage as sk\n",
    "from scipy import ndimage\n",
    "from scipy import signal\n",
    "import scipy.stats as st\n",
    "from scipy import fftpack\n",
    "\n",
    "from sys import path\n",
    "path.append('../tisLib')\n",
    "from myTisLib import *"
   ]
  },
  {
   "cell_type": "markdown",
   "metadata": {},
   "source": [
    "## Global parameters for the lab\n",
    "|parameter|value|description|\n",
    "|---|---|---|\n",
    "|NUM_GRAYS| 256| number of gray levels in a gray image|\n",
    "|MIN_GRAY| 0| minimum value for the gray level (black pixel) |\n",
    "|MAX_GRAY| 255| maximum value for the gray level (white pixel) |"
   ]
  },
  {
   "cell_type": "code",
   "execution_count": 2,
   "metadata": {
    "scrolled": true
   },
   "outputs": [],
   "source": [
    "NUM_GRAYS=256\n",
    "MIN_GRAY=0\n",
    "MAX_GRAY=255"
   ]
  },
  {
   "cell_type": "markdown",
   "metadata": {},
   "source": [
    "# Ex2 - 2D convolution\n",
    "\n",
    "## Ex2.1 - Function to apply a 2D convolution to an image:\n",
    "\n",
    "### Function `conv2D`\n",
    "\n",
    "Prototype: `def conv2D(f,mask, norm=True)`\n",
    "\n",
    "This function applies the `mask` of 2D convolution to the image `f` and returns the results as an 2D array.\n",
    "> - `f` is a 256 gray level image\n",
    "> - `mask` is the 2D convolution mask\n",
    "> - `norm` is force the normalization of the output in the range [0..255]\n"
   ]
  },
  {
   "cell_type": "code",
   "execution_count": 3,
   "metadata": {},
   "outputs": [],
   "source": [
    "def conv2D(_f,_mask, norm=True):\n",
    "    a = (np.shape(_mask)[0] - 1) // 2\n",
    "    b = (np.shape(_mask)[1] - 1) // 2\n",
    "    m, n = np.shape(_f)\n",
    "\n",
    "    img = _f.copy()  # Do not modify inputed image\n",
    "\n",
    "    if img.dtype == \"float32\":  # convert to uint8\n",
    "        img *= MAX_GRAY\n",
    "        img = img.astype(\"uint8\")\n",
    "\n",
    "    g = signal.convolve2d(img, _mask, 'same')\n",
    "\n",
    "    if norm:\n",
    "        g = imageNormalize(g)\n",
    "        \n",
    "    return g"
   ]
  },
  {
   "cell_type": "markdown",
   "metadata": {},
   "source": [
    "## Test of the `conv2D` function\n",
    "\n",
    "This cell creates an array `f` and apply some `mask` with various sizes.\n",
    "It compares the two results using the `np.testing.assert_equal` function which generate an error if the test fails."
   ]
  },
  {
   "cell_type": "code",
   "execution_count": 4,
   "metadata": {},
   "outputs": [
    {
     "name": "stdout",
     "output_type": "stream",
     "text": [
      "f:\n",
      " [[0 1 2]\n",
      " [3 4 5]\n",
      " [6 7 8]]\n",
      "mask:\n",
      " [[1]]\n",
      "g:\n",
      " [[0 1 2]\n",
      " [3 4 5]\n",
      " [6 7 8]]\n",
      "TEST 2D convolution with 1x1 blank mask OK\n",
      "mask:\n",
      " [[0 0 0]\n",
      " [0 1 0]\n",
      " [0 0 0]]\n",
      "g:\n",
      " [[0 1 2]\n",
      " [3 4 5]\n",
      " [6 7 8]]\n",
      "TEST 2D convolution with 3x3 blank mask OK\n",
      "mask:\n",
      " [[0 0 0 0 0 0 0]\n",
      " [0 0 0 1 0 0 0]\n",
      " [0 0 0 0 0 0 0]]\n",
      "g:\n",
      " [[0 1 2]\n",
      " [3 4 5]\n",
      " [6 7 8]]\n",
      "TEST 2D convolution with 3x7 blank mask OK\n",
      "mask:\n",
      " [[0 0 0 0 0]\n",
      " [0 0 0 0 0]\n",
      " [0 0 0 0 0]\n",
      " [0 0 1 0 0]\n",
      " [0 0 0 0 0]\n",
      " [0 0 0 0 0]\n",
      " [0 0 0 0 0]]\n",
      "g:\n",
      " [[0 1 2]\n",
      " [3 4 5]\n",
      " [6 7 8]]\n",
      "TEST 2D convolution with 7x5 blank mask OK\n",
      "mask:\n",
      " [[1 1 1]\n",
      " [1 1 1]\n",
      " [1 1 1]]\n",
      "g:\n",
      " [[ 8 15 12]\n",
      " [21 36 27]\n",
      " [20 33 24]]\n",
      "TEST 2D convolution with 7x5 sum mask OK\n"
     ]
    }
   ],
   "source": [
    "f=np.array( [\n",
    "    [0,1,2],\n",
    "    [3,4,5],\n",
    "    [6,7,8]] ,dtype='uint8') \n",
    "print('f:\\n',f)\n",
    "\n",
    "\n",
    "# ========================================================================\n",
    "# test with a 1x1 blank mask (no change)\n",
    "blank_mask=np.zeros( (1,1) , dtype='int8'); \n",
    "blank_mask[blank_mask.shape[0]//2,blank_mask.shape[1]//2]=1\n",
    "print('mask:\\n',blank_mask)\n",
    "\n",
    "g=conv2D(f,blank_mask,norm=False)\n",
    "print('g:\\n',g)\n",
    "# compare results \n",
    "np.testing.assert_equal(f, g)\n",
    "print(\"TEST 2D convolution with %dx%d blank mask OK\" %(blank_mask.shape[0],blank_mask.shape[1]))\n",
    "\n",
    "\n",
    "# ========================================================================\n",
    "# test with a 3x3 blank mask (no change)\n",
    "blank_mask=np.zeros( (3,3) , dtype='int8'); \n",
    "blank_mask[blank_mask.shape[0]//2,blank_mask.shape[1]//2]=1\n",
    "print('mask:\\n',blank_mask)\n",
    "\n",
    "g=conv2D(f,blank_mask,norm=False)\n",
    "print('g:\\n',g)\n",
    "# compare results \n",
    "np.testing.assert_equal(f, g)\n",
    "print(\"TEST 2D convolution with %dx%d blank mask OK\" %(blank_mask.shape[0],blank_mask.shape[1]))\n",
    "\n",
    "# ========================================================================\n",
    "# test with a 3x7 blank mask (no change)\n",
    "blank_mask=np.zeros( (3,7) , dtype='int8'); \n",
    "blank_mask[blank_mask.shape[0]//2,blank_mask.shape[1]//2]=1\n",
    "print('mask:\\n',blank_mask)\n",
    "\n",
    "g=conv2D(f,blank_mask,norm=False)\n",
    "print('g:\\n',g)\n",
    "# compare results \n",
    "np.testing.assert_equal(f, g)\n",
    "print(\"TEST 2D convolution with %dx%d blank mask OK\" %(blank_mask.shape[0],blank_mask.shape[1]))\n",
    "\n",
    "# ========================================================================\n",
    "# test with a 7x5 blank mask (no change)\n",
    "blank_mask=np.zeros( (7,5) , dtype='int8'); \n",
    "blank_mask[blank_mask.shape[0]//2,blank_mask.shape[1]//2]=1\n",
    "print('mask:\\n',blank_mask)\n",
    "\n",
    "g=conv2D(f,blank_mask,norm=False)\n",
    "print('g:\\n',g)\n",
    "# compare results \n",
    "np.testing.assert_equal(f, g)\n",
    "print(\"TEST 2D convolution with %dx%d blank mask OK\" %(blank_mask.shape[0],blank_mask.shape[1]))\n",
    "\n",
    "# ========================================================================\n",
    "# test with a 3x3 mask for sum computation \n",
    "mask=np.ones( (3,3) , dtype='int8'); \n",
    "print('mask:\\n',mask)\n",
    "\n",
    "g=conv2D(f,mask,norm=False)\n",
    "print('g:\\n',g)\n",
    "\n",
    "theoreticalG=np.array( [\n",
    "    [ 8,15,12],\n",
    "    [21,36,27],\n",
    "    [20,33,24]] ,dtype='uint8') \n",
    "\n",
    "# compare results \n",
    "np.testing.assert_equal(theoreticalG, g)\n",
    "print(\"TEST 2D convolution with %dx%d sum mask OK\" %(blank_mask.shape[0],blank_mask.shape[1]))\n"
   ]
  },
  {
   "cell_type": "markdown",
   "metadata": {},
   "source": [
    "## Ex2.2 - Convolution of an image with a smoothing mask \n",
    "\n",
    "- `f` is a 11x11 images containing a centered gray [128] square of 5x5,\n",
    "- `smooth` is a 3x3 matrix [[1,2,1],[2,4,2],[1,2,1]],\n",
    "- `g` is the result,\n",
    "- display and save the result as `labo04-ex2.2.png`.\n"
   ]
  },
  {
   "cell_type": "code",
   "execution_count": 5,
   "metadata": {},
   "outputs": [
    {
     "data": {
      "image/png": "[encoded data removed]",
      "text/plain": [
       "<Figure size 432x288 with 1 Axes>"
      ]
     },
     "metadata": {
      "needs_background": "light"
     },
     "output_type": "display_data"
    }
   ],
   "source": [
    "f = np.zeros((11,11))\n",
    "f[3:-3, 3:-3] = 128\n",
    "\n",
    "smooth = np.array([[1,2,1],[2,4,2],[1,2,1]])\n",
    "g = conv2D(f,smooth)\n",
    "\n",
    "myFancyPlot(g, title=\"labo04-ex2.2\", cmap=\"gray\", grid=(1,1), ticks=(1,1), saveto=\"output/labo04-ex2.2.png\")"
   ]
  },
  {
   "cell_type": "markdown",
   "metadata": {},
   "source": [
    "## Ex2.3 - Unsharp masking\n",
    "\n",
    "- `f` is a 11x11 images containing a centered gray [128] square of 5x5,\n",
    "- `smooth` is a 3x3 matrix 1/6*[[-1,-4,-1],[-4,26,-4],[-1,-4,-1]],\n",
    "- `g` is the result,\n",
    "- display and save the result as `labo04-ex2.3.png`.\n"
   ]
  },
  {
   "cell_type": "code",
   "execution_count": 6,
   "metadata": {},
   "outputs": [
    {
     "data": {
      "image/png": "[encoded data removed]",
      "text/plain": [
       "<Figure size 432x288 with 1 Axes>"
      ]
     },
     "metadata": {
      "needs_background": "light"
     },
     "output_type": "display_data"
    }
   ],
   "source": [
    "f = np.zeros((11,11))\n",
    "f[3:-3, 3:-3] = 128\n",
    "\n",
    "smooth = 1 / 6 * np.array([[-1,-4,-1],[-4,26,-4],[-1,-4,-1]])\n",
    "g = conv2D(f,smooth)\n",
    "\n",
    "myFancyPlot(g, title=\"labo04-ex2.3\", cmap=\"gray\", grid=(1,1), ticks=(1,1), saveto=\"output/labo04-ex2.3.png\")"
   ]
  },
  {
   "cell_type": "markdown",
   "metadata": {},
   "source": [
    "## Ex2.4 - Convolution of an image with a mask for vertical lines detection\n",
    "\n",
    "- `f` is a 11x11 images containing a centered gray [128] square of 5x5,\n",
    "- `maskForVerticalDetector` is a 1x3 matrix [[1,-2,1]],\n",
    "- `g` is the result,\n",
    "- display and save the result as `labo04-ex2.4.png`.\n"
   ]
  },
  {
   "cell_type": "code",
   "execution_count": 7,
   "metadata": {},
   "outputs": [
    {
     "data": {
      "image/png": "[encoded data removed]",
      "text/plain": [
       "<Figure size 432x288 with 1 Axes>"
      ]
     },
     "metadata": {
      "needs_background": "light"
     },
     "output_type": "display_data"
    }
   ],
   "source": [
    "f = np.zeros((11,11))\n",
    "f[3:-3, 3:-3] = 128\n",
    "\n",
    "maskForVerticalDetector = np.array([[1,-2,1]])\n",
    "g = conv2D(f,maskForVerticalDetector)\n",
    "\n",
    "myFancyPlot(g, title=\"labo04-ex2.4\", cmap=\"gray\", grid=(1,1), ticks=(1,1), saveto=\"output/labo04-ex2.4.png\")"
   ]
  },
  {
   "cell_type": "markdown",
   "metadata": {},
   "source": [
    "## Ex2.5 - Convolution of an image with a mask for horizontal lines detection\n",
    "\n",
    "- `f` is a 11x11 images containing a centered gray [128] square of 5x5,\n",
    "- `maskForHorizontalDetector` is a 3x1 matrix [[1],[-2],[1]],\n",
    "- `g` is the result,\n",
    "- display and save the result as `labo04-ex2.5.png`.\n"
   ]
  },
  {
   "cell_type": "code",
   "execution_count": 8,
   "metadata": {},
   "outputs": [
    {
     "data": {
      "image/png": "[encoded data removed]",
      "text/plain": [
       "<Figure size 432x288 with 1 Axes>"
      ]
     },
     "metadata": {
      "needs_background": "light"
     },
     "output_type": "display_data"
    }
   ],
   "source": [
    "f = np.zeros((11,11))\n",
    "f[3:-3, 3:-3] = 128\n",
    "\n",
    "maskForHorizontalDetector = np.array([[1,-2,1]]).T\n",
    "g = conv2D(f, maskForHorizontalDetector)\n",
    "\n",
    "myFancyPlot(g, title=\"labo04-ex2.5\", cmap=\"gray\", grid=(1,1), ticks=(1,1), saveto=\"output/labo04-ex2.5.png\")"
   ]
  },
  {
   "cell_type": "markdown",
   "metadata": {},
   "source": [
    "## Ex 2.6 - Convolution of an image with a mask for vertical and horizontal lines detection\n",
    "\n",
    "- `f` is a 11x11 images containing a centered gray [128] square of 5x5,\n",
    "- `hvMask` is a 3x3 matrix [[1,1,1],[1,-8,1],[1,1,1]],\n",
    "- `g` is the result,\n",
    "- display and save the result as `labo04-ex2.6.png`.\n"
   ]
  },
  {
   "cell_type": "code",
   "execution_count": 9,
   "metadata": {},
   "outputs": [
    {
     "data": {
      "image/png": "[encoded data removed]",
      "text/plain": [
       "<Figure size 432x288 with 1 Axes>"
      ]
     },
     "metadata": {
      "needs_background": "light"
     },
     "output_type": "display_data"
    }
   ],
   "source": [
    "f = np.zeros((11,11))\n",
    "f[3:-3, 3:-3] = 128\n",
    "\n",
    "hvMask = np.array([[1,1,1],[1,-8,1],[1,1,1]])\n",
    "g = conv2D(f, hvMask)\n",
    "\n",
    "myFancyPlot(g, title=\"labo04-ex2.6\", cmap=\"gray\", grid=(1,1), ticks=(1,1), saveto=\"output/labo04-ex2.6.png\")"
   ]
  },
  {
   "cell_type": "markdown",
   "metadata": {},
   "source": [
    "## Ex2.7 - Convolution using 2D FFT of an image with a mask for vertical and horizontal lines detection\n",
    "\n",
    "- `f` is a 11x11 images containing a centered gray [128] square of 5x5,\n",
    "- `hvMask` is a 3x3 matrix [[1,1,1],[1,-8,1],[1,1,1]],\n",
    "- `g` is the result,\n",
    "- display and save the result as `labo04-ex2.7.png`.\n",
    "\n",
    "\n"
   ]
  },
  {
   "cell_type": "code",
   "execution_count": 20,
   "metadata": {},
   "outputs": [
    {
     "data": {
      "image/png": "[encoded data removed]",
      "text/plain": [
       "<Figure size 432x288 with 1 Axes>"
      ]
     },
     "metadata": {
      "needs_background": "light"
     },
     "output_type": "display_data"
    }
   ],
   "source": [
    "f = np.zeros((11,11))\n",
    "f[3:-3, 3:-3] = 128\n",
    "\n",
    "hvMask = np.array([[1,1,1],[1,-8,1],[1,1,1]])\n",
    "\n",
    "p = 2 * f.shape[0]\n",
    "q = 2 * f.shape[1]\n",
    "\n",
    "fp = np.zeros((p,q))\n",
    "fp[:p//2,:q//2] = f\n",
    "\n",
    "hp = np.zeros((p,q))\n",
    "hp[:hvMask.shape[0],:hvMask.shape[1]] = hvMask\n",
    "\n",
    "Fp = np.fft.fft2(fp)\n",
    "Hp = np.fft.fft2(hp)\n",
    "G = Fp * Hp\n",
    "g = np.fft.ifft2(G)\n",
    "g = g[hvMask.shape[0]//2 : f.shape[0] + hvMask.shape[0]//2, hvMask.shape[1]//2:f.shape[1]+hvMask.shape[1]//2]\n",
    "\n",
    "g = imageNormalize(np.real(g))  # Remove the imaginary part and normalize\n",
    "\n",
    "\n",
    "myFancyPlot(g, title=\"labo04-ex2.7\", cmap=\"gray\", grid=(1,1), saveto=\"output/labo04-ex2.7.png\")"
   ]
  }
 ],
 "metadata": {
  "kernelspec": {
   "display_name": "Python 3 (ipykernel)",
   "language": "python",
   "name": "python3"
  },
  "language_info": {
   "codemirror_mode": {
    "name": "ipython",
    "version": 3
   },
   "file_extension": ".py",
   "mimetype": "text/x-python",
   "name": "python",
   "nbconvert_exporter": "python",
   "pygments_lexer": "ipython3",
   "version": "3.9.7"
  }
 },
 "nbformat": 4,
 "nbformat_minor": 4
}
