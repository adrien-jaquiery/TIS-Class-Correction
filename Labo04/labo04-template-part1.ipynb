{
 "cells": [
  {
   "cell_type": "markdown",
   "metadata": {},
   "source": [
    "# LAB04 - 2D Convolution\n",
    "\n",
    "## Part 1 - padding / unpadding\n",
    "\n",
    "Objectives:\n",
    "- add some padding to an image by using the following modes :zero, replicate, mirror and circular,\n",
    "- remove padding of an image."
   ]
  },
  {
   "cell_type": "markdown",
   "metadata": {},
   "source": [
    "## Imported librairies and configurations"
   ]
  },
  {
   "cell_type": "code",
   "execution_count": 1,
   "metadata": {
    "scrolled": true
   },
   "outputs": [],
   "source": [
    "import numpy as np\n",
    "import matplotlib.pyplot as plt\n",
    "from matplotlib import rcParams\n",
    "import skimage as sk\n",
    "from scipy import ndimage\n",
    "from scipy import signal\n",
    "import scipy.stats as st\n",
    "from scipy import fftpack\n",
    "\n",
    "from sys import path\n",
    "path.append('../tisLib')\n",
    "import myTisLib\n"
   ]
  },
  {
   "cell_type": "markdown",
   "metadata": {},
   "source": [
    "## Global parameters for the lab\n",
    "|parameter|value|description|\n",
    "|---|---|---|\n",
    "|NUM_GRAYS| 256| number of gray levels in a gray image|\n",
    "|MIN_GRAY| 0| minimum value for the gray level (black pixel) |\n",
    "|MAX_GRAY| 255| maximum value for the gray level (white pixel) |"
   ]
  },
  {
   "cell_type": "code",
   "execution_count": 2,
   "metadata": {
    "scrolled": true
   },
   "outputs": [],
   "source": [
    "NUM_GRAYS=256\n",
    "MIN_GRAY=0\n",
    "MAX_GRAY=255"
   ]
  },
  {
   "cell_type": "markdown",
   "metadata": {},
   "source": [
    "# Ex1 - image padding\n",
    "\n",
    "## Ex1.1 - function to pad an image:\n",
    "\n",
    "### Function `imagePadding`\n",
    "\n",
    "Prototype: `def imagePadding(f, mask, type='mirror')`\n",
    "\n",
    "This function pads the given image `f` with a border related to the `mask` size, by using the technique `type` and returns the result as a 2D array.\n",
    "> - `f` is a gray image\n",
    "> - `mask` is the matrix used for padding size computation\n",
    "> - `type` is the type of padding: `mirror` (default),  `zero`, `replicate` or `circular`\n",
    "\n",
    "It may be useful to create sub-functions like:\n",
    "\n",
    "- `circularPadding(f,mask)`\n",
    "- `mirrorPadding(f,mask)`\n",
    "- `replicatePadding(f,mask)`\n",
    "- `zeroPadding(f,mask)`\n"
   ]
  },
  {
   "cell_type": "code",
   "execution_count": 3,
   "metadata": {},
   "outputs": [],
   "source": [
    "def circularPadding(f,m):\n",
    "    if not np.shape(m)[0] % 2 or not np.shape(m)[1] % 2:\n",
    "        raise Exception(\"Mask must have odd sizes\")\n",
    "    a = (np.shape(m)[0] - 1) // 2\n",
    "    b = (np.shape(m)[1] - 1) // 2\n",
    "\n",
    "    fp = np.pad(f, ((a,a),(b,b),(0,0)) if len(f.shape) == 3 else ((a,a),(b,b)), mode='wrap')\n",
    "    return fp\n",
    "\n",
    "def mirrorPadding(f,m):\n",
    "    if not np.shape(m)[0] % 2 or not np.shape(m)[1] % 2:\n",
    "        raise Exception(\"Mask must have odd sizes\")\n",
    "        \n",
    "    a = (np.shape(m)[0] - 1) // 2\n",
    "    b = (np.shape(m)[1] - 1) // 2\n",
    "\n",
    "    fp = np.pad(f, ((a,a),(b,b),(0,0)) if len(f.shape) == 3 else ((a,a),(b,b)), 'symmetric')\n",
    "    return fp\n",
    "\n",
    "def replicatePadding(f,m):\n",
    "    if not np.shape(m)[0] % 2 or not np.shape(m)[1] % 2:\n",
    "        raise Exception(\"Mask must have odd sizes\")\n",
    "        \n",
    "    a = (np.shape(m)[0] - 1) // 2\n",
    "    b = (np.shape(m)[1] - 1) // 2\n",
    "\n",
    "    fp = np.pad(f, ((a,a),(b,b),(0,0)) if len(f.shape) == 3 else ((a,a),(b,b)), 'edge')\n",
    "    return fp\n",
    "\n",
    "def zeroPadding(f,m):\n",
    "    if not np.shape(m)[0] % 2 or not np.shape(m)[1] % 2:\n",
    "        raise Exception(\"Mask must have odd sizes\")\n",
    "    a = (np.shape(m)[0] - 1) // 2\n",
    "    b = (np.shape(m)[1] - 1) // 2\n",
    "    \n",
    "    if len(np.shape(f)) == 3:   # not a grayscale image\n",
    "        fp = np.zeros((np.shape(f)[0] + 2 * a, np.shape(f)[1] + 2 * b, np.shape(f)[2]), dtype = f.dtype)\n",
    "    else:   # grayscale image\n",
    "        fp = np.zeros((np.shape(f)[0] + 2 * a, np.shape(f)[1] + 2 * b), dtype = f.dtype)\n",
    "\n",
    "    fp[a:-a,b:-b] = f\n",
    "    if len(f.shape) == 3 and f.shape[2] == 4:    # Image with alpha -> setting alpha to 1\n",
    "        fp[0:a,:,3] = 255 if f.dtype == 'uint8' else 1.0\n",
    "        fp[-a:,:,3] = 255 if f.dtype == 'uint8' else 1.0\n",
    "        fp[:,0:b,3] = 255 if f.dtype == 'uint8' else 1.0\n",
    "        fp[:,-b:,3] = 255 if f.dtype == 'uint8' else 1.0\n",
    "    return fp\n",
    "\n",
    "\n",
    "def imagePadding(_f, _mask, _type='mirror'):\n",
    "    if _type == \"replicate\":\n",
    "        fp = replicatePadding(_f, _mask)\n",
    "    elif _type == \"mirror\":\n",
    "        fp = mirrorPadding(_f, _mask)\n",
    "    elif _type == \"zero\":\n",
    "        fp = zeroPadding(_f, _mask)\n",
    "    elif _type == \"circular\":\n",
    "        fp = circularPadding(_f, _mask)\n",
    "    else:\n",
    "        raise Exception(\"Unknown padding type\")\n",
    "    return fp\n",
    "\n"
   ]
  },
  {
   "cell_type": "markdown",
   "metadata": {},
   "source": [
    "## Test of the `imagePadding` function\n",
    "\n",
    "This cell creates an array with values (2x3) and computes its symmetric padding with a 5x5 mask.\n",
    "It compares the two results using the `np.testing.assert_equal` function which generate an error if the test fails."
   ]
  },
  {
   "cell_type": "code",
   "execution_count": 4,
   "metadata": {},
   "outputs": [
    {
     "name": "stdout",
     "output_type": "stream",
     "text": [
      "TEST mirror padding OK\n",
      "TEST zero padding OK\n",
      "TEST replicate padding OK\n",
      "TEST circular padding OK\n"
     ]
    }
   ],
   "source": [
    "f=np.array([ \n",
    "    [ 1, 2, 3],\n",
    "    [ 5, 6, 7]\n",
    "           ])\n",
    "mask=np.zeros( (5,5) ); \n",
    "\n",
    "\n",
    "# TEST MIRROR PADDING\n",
    "\n",
    "theoreticalMirrorPaddedF=np.array([\n",
    "    [6, 5, 5, 6, 7, 7, 6],\n",
    "    [2, 1, 1, 2, 3, 3, 2],\n",
    "    [2, 1, 1, 2, 3, 3, 2],\n",
    "    [6, 5, 5, 6, 7, 7, 6],\n",
    "    [6, 5, 5, 6, 7, 7, 6],\n",
    "    [2, 1, 1, 2, 3, 3, 2]])\n",
    "\n",
    "practicalPaddedF=imagePadding(f,mask,'mirror')\n",
    "\n",
    "# compare results \n",
    "np.testing.assert_equal(theoreticalMirrorPaddedF, practicalPaddedF)\n",
    "print(\"TEST mirror padding OK\")\n",
    "\n",
    "# TEST ZERO PADDING\n",
    "\n",
    "theoreticalZeroPaddedF=np.array([\n",
    "    [0, 0, 0, 0, 0, 0, 0],\n",
    "    [0, 0, 0, 0, 0, 0, 0],\n",
    "    [0, 0, 1, 2, 3, 0, 0],\n",
    "    [0, 0, 5, 6, 7, 0, 0],\n",
    "    [0, 0, 0, 0, 0, 0, 0],\n",
    "    [0, 0, 0, 0, 0, 0, 0]])\n",
    "\n",
    "practicalPaddedF=imagePadding(f,mask,'zero')\n",
    "\n",
    "# compare results \n",
    "np.testing.assert_equal(theoreticalZeroPaddedF, practicalPaddedF)\n",
    "print(\"TEST zero padding OK\")\n",
    "\n",
    "# TEST REPLICATE PADDING\n",
    "\n",
    "theoreticalReplicatePaddedF=np.array([\n",
    "    [1, 1, 1, 2, 3, 3, 3],\n",
    "    [1, 1, 1, 2, 3, 3, 3],\n",
    "    [1, 1, 1, 2, 3, 3, 3],\n",
    "    [5, 5, 5, 6, 7, 7, 7],\n",
    "    [5, 5, 5, 6, 7, 7, 7],\n",
    "    [5, 5, 5, 6, 7, 7, 7]])\n",
    "\n",
    "practicalPaddedF=imagePadding(f,mask,'replicate')\n",
    "\n",
    "# compare results \n",
    "np.testing.assert_equal(theoreticalReplicatePaddedF, practicalPaddedF)\n",
    "print(\"TEST replicate padding OK\")\n",
    "\n",
    "# TEST CIRCULAR PADDING\n",
    "\n",
    "theoreticalCircularPaddedF=np.array([\n",
    "    [2, 3, 1, 2, 3, 1, 2],\n",
    "    [6, 7, 5, 6, 7, 5, 6],\n",
    "    [2, 3, 1, 2, 3, 1, 2],\n",
    "    [6, 7, 5, 6, 7, 5, 6],\n",
    "    [2, 3, 1, 2, 3, 1, 2],\n",
    "    [6, 7, 5, 6, 7, 5, 6]])\n",
    "\n",
    "practicalPaddedF=imagePadding(f,mask,'circular');\n",
    "\n",
    "# compare results \n",
    "np.testing.assert_equal(theoreticalCircularPaddedF, practicalPaddedF)\n",
    "print(\"TEST circular padding OK\")"
   ]
  },
  {
   "cell_type": "markdown",
   "metadata": {},
   "source": [
    "## Ex1.2 - function to remove the padding in an image:\n",
    "\n",
    "### Function `imageUnpadding`\n",
    "\n",
    "Prototype: `def imageUnpadding(f, mask)`\n",
    "\n",
    "This function unpads the given image `f` with a border related to the `mask` size and returns the result as a 2D array.\n",
    "> - `f` is a gray image\n",
    "> - `mask` is the matrix used for padding size computation\n",
    "\n"
   ]
  },
  {
   "cell_type": "code",
   "execution_count": 5,
   "metadata": {},
   "outputs": [],
   "source": [
    "def imageUnpadding(f,mask):\n",
    "    if not np.shape(mask)[0] % 2 or not np.shape(mask)[1] % 2:\n",
    "        raise Exception(\"Mask must have odd sizes\")\n",
    "    b = (np.shape(mask)[0] - 1) // 2\n",
    "    a = (np.shape(mask)[1] - 1) // 2\n",
    "\n",
    "    return f[a:-a, b:-b]\n"
   ]
  },
  {
   "cell_type": "code",
   "execution_count": 6,
   "metadata": {},
   "outputs": [
    {
     "name": "stdout",
     "output_type": "stream",
     "text": [
      "TEST unpadding OK\n"
     ]
    }
   ],
   "source": [
    "f=np.array([\n",
    "    [0, 0, 0, 0, 0, 0, 0],\n",
    "    [0, 0, 0, 0, 0, 0, 0],\n",
    "    [0, 0, 1, 2, 3, 0, 0],\n",
    "    [0, 0, 5, 6, 7, 0, 0],\n",
    "    [0, 0, 0, 0, 0, 0, 0],\n",
    "    [0, 0, 0, 0, 0, 0, 0]])\n",
    "\n",
    "theoreticalZeroUnpaddedF=np.array([ \n",
    "    [ 1, 2, 3],\n",
    "    [ 5, 6, 7]\n",
    "           ])\n",
    "\n",
    "mask=np.zeros( (5,5) ); \n",
    "\n",
    "practicalUnpaddedF=imageUnpadding(f,mask)\n",
    "\n",
    "# compare results \n",
    "np.testing.assert_equal(theoreticalZeroUnpaddedF, practicalUnpaddedF)\n",
    "print(\"TEST unpadding OK\")\n"
   ]
  }
 ],
 "metadata": {
  "kernelspec": {
   "display_name": "Python 3 (ipykernel)",
   "language": "python",
   "name": "python3"
  },
  "language_info": {
   "codemirror_mode": {
    "name": "ipython",
    "version": 3
   },
   "file_extension": ".py",
   "mimetype": "text/x-python",
   "name": "python",
   "nbconvert_exporter": "python",
   "pygments_lexer": "ipython3",
   "version": "3.9.7"
  }
 },
 "nbformat": 4,
 "nbformat_minor": 4
}
